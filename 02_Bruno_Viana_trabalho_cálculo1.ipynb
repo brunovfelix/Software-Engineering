{
 "cells": [
  {
   "cell_type": "markdown",
   "id": "0b9592d8-319a-4146-afc0-bca9fcf4973a",
   "metadata": {},
   "source": [
    "                                TRABALHO 2 - PRIMEIRA AVAÇLIAÇÃO"
   ]
  },
  {
   "cell_type": "code",
   "execution_count": 23,
   "id": "bf36d20c-f4e7-4997-bdce-d838ae1a20d9",
   "metadata": {},
   "outputs": [],
   "source": [
    "  \n",
    "def newton_bisseccao(f, a, b):\n",
    "    df = f.derivative()\n",
    "    if f(x=a) * f(x=b) > 0:\n",
    "        raise ValueError(\"A função não muda de sinal no intervalo fornecido.\")\n",
    "    x = (a + b) / 2  \n",
    "    for i in range(100): \n",
    "        fx = f(x=x)\n",
    "        dfx = df(x=x)\n",
    "        if abs(fx) < 1e-7: \n",
    "            return N(x), i  \n",
    "        if dfx != 0:\n",
    "            x_new = x - fx / dfx  \n",
    "            if a < x_new < b:\n",
    "                x = x_new\n",
    "            else:\n",
    "                x = (a + b) / 2\n",
    "        else:\n",
    "            x = (a + b) / 2\n",
    "        if f(x=a) * f(x=x) < 0:\n",
    "            b = x\n",
    "        else:\n",
    "            a = x\n",
    "    raise ValueError(\"O método não convergiu após o número máximo de iterações.\")\n",
    "    \n",
    "    \n",
    "    \n",
    "       \n",
    "        \n",
    "       \n",
    "\n",
    "      \n",
    "           \n",
    "               \n",
    "           \n",
    "\n",
    "      \n",
    "\n",
    "    \n"
   ]
  },
  {
   "cell_type": "code",
   "execution_count": 36,
   "id": "9063c687-9f48-4ad0-9f7d-318b059507b2",
   "metadata": {},
   "outputs": [
    {
     "name": "stdout",
     "output_type": "stream",
     "text": [
      "Raiz aproximada: 1.52137970680458\n",
      "Número de iterações: 3\n"
     ]
    }
   ],
   "source": [
    "# Exemplo 0\n",
    "x = var('x')\n",
    "f = x^3 - x - 2  \n",
    "a = 1  \n",
    "b = 2\n",
    "\n",
    "raiz, iteracoes = newton_bisseccao(f, a, b)\n",
    "print(f\"Raiz aproximada: {raiz}\")  # Agora isso imprimirá um número decimal\n",
    "print(f\"Número de iterações: {iteracoes}\")\n"
   ]
  },
  {
   "cell_type": "code",
   "execution_count": 34,
   "id": "6f239d35-c78d-4d5e-b7c8-e3d6ce99dd26",
   "metadata": {},
   "outputs": [
    {
     "name": "stdout",
     "output_type": "stream",
     "text": [
      "Exemplo 1: Raiz aproximada: 2.00000000000012\n",
      "Número de iterações: 4\n"
     ]
    }
   ],
   "source": [
    "# Exemplo 1\n",
    "x = var('x')\n",
    "f1 = x^2 - 4  \n",
    "a1 = 0 \n",
    "b1 = 3  \n",
    "\n",
    "\n",
    "raiz1, iteracoes1 = newton_bisseccao(f1, a1, b1)\n",
    "print(f\"Exemplo 1: Raiz aproximada: {raiz1}\")  \n",
    "print(f\"Número de iterações: {iteracoes1}\")"
   ]
  },
  {
   "cell_type": "code",
   "execution_count": 33,
   "id": "ab926409-7d38-4407-8a01-7ec347eb9f0f",
   "metadata": {},
   "outputs": [
    {
     "name": "stdout",
     "output_type": "stream",
     "text": [
      "\n",
      "Exemplo 2: Raiz aproximada: 0.739085133920807\n",
      "Número de iterações: 3\n"
     ]
    }
   ],
   "source": [
    "# Exemplo 2\n",
    "x = var('x')\n",
    "f2 = cos(x) - x  \n",
    "a2 = 0 \n",
    "b2 = 1 \n",
    "\n",
    "raiz2, iteracoes2 = newton_bisseccao(f2, a2, b2)\n",
    "print(f\"\\nExemplo 2: Raiz aproximada: {raiz2}\")  \n",
    "print(f\"Número de iterações: {iteracoes2}\")\n"
   ]
  },
  {
   "cell_type": "code",
   "execution_count": 32,
   "id": "caf06d7a-5725-4c2d-bccf-4f53726eec9f",
   "metadata": {},
   "outputs": [
    {
     "name": "stdout",
     "output_type": "stream",
     "text": [
      "\n",
      "Exemplo 3: Raiz aproximada: 2.09455148155025\n",
      "Número de iterações: 4\n"
     ]
    }
   ],
   "source": [
    "# Exemplo 3\n",
    "x = var('x')\n",
    "f3 = x^3 - 2*x - 5 \n",
    "a3 = 2  \n",
    "b3 = 3 \n",
    "\n",
    "\n",
    "raiz3, iteracoes3 = newton_bisseccao(f3, a3, b3)\n",
    "print(f\"\\nExemplo 3: Raiz aproximada: {raiz3}\")  \n",
    "print(f\"Número de iterações: {iteracoes3}\")"
   ]
  },
  {
   "cell_type": "code",
   "execution_count": 31,
   "id": "8895b1a3-fd57-4673-bae0-f2201f88ac03",
   "metadata": {},
   "outputs": [
    {
     "name": "stdout",
     "output_type": "stream",
     "text": [
      "\n",
      "Exemplo 4: Raiz aproximada: 0.693147180560025\n",
      "Número de iterações: 4\n"
     ]
    }
   ],
   "source": [
    "# Exemplo 4\n",
    "x = var('x')\n",
    "f4 = exp(x) - 2  \n",
    "a4 = 0  \n",
    "b4 = 2  \n",
    "\n",
    "\n",
    "raiz4, iteracoes4 = newton_bisseccao(f4, a4, b4)\n",
    "print(f\"\\nExemplo 4: Raiz aproximada: {raiz4}\")  # Raiz em decimal\n",
    "print(f\"Número de iterações: {iteracoes4}\")"
   ]
  },
  {
   "cell_type": "code",
   "execution_count": 37,
   "id": "2af62782-d0d8-4093-b551-cd1c9027d0d8",
   "metadata": {},
   "outputs": [
    {
     "name": "stdout",
     "output_type": "stream",
     "text": [
      "\n",
      "Exemplo 5: Raiz aproximada: 2.71828182845894\n",
      "Número de iterações: 4\n"
     ]
    }
   ],
   "source": [
    "# Exemplo 5\n",
    "x = var('x')\n",
    "f5 = log(x) - 1 \n",
    "a5 = 1  \n",
    "b5 = 3  \n",
    "\n",
    "raiz5, iteracoes5 = newton_bisseccao(f5, a5, b5)\n",
    "print(f\"\\nExemplo 5: Raiz aproximada: {raiz5}\") \n",
    "print(f\"Número de iterações: {iteracoes5}\")"
   ]
  },
  {
   "cell_type": "code",
   "execution_count": 1,
   "id": "b7a45d3f-ffcd-4b58-8e07-5bd2cab84cfd",
   "metadata": {},
   "outputs": [
    {
     "ename": "NameError",
     "evalue": "name 'var' is not defined",
     "output_type": "error",
     "traceback": [
      "\u001b[1;31m---------------------------------------------------------------------------\u001b[0m",
      "\u001b[1;31mNameError\u001b[0m                                 Traceback (most recent call last)",
      "Cell \u001b[1;32mIn[1], line 2\u001b[0m\n\u001b[0;32m      1\u001b[0m \u001b[38;5;66;03m# Exemplo 6\u001b[39;00m\n\u001b[1;32m----> 2\u001b[0m x \u001b[38;5;241m=\u001b[39m \u001b[43mvar\u001b[49m(\u001b[38;5;124m'\u001b[39m\u001b[38;5;124mx\u001b[39m\u001b[38;5;124m'\u001b[39m)\n\u001b[0;32m      3\u001b[0m f6 \u001b[38;5;241m=\u001b[39m \u001b[38;5;28mabs\u001b[39m(x) \u001b[38;5;241m-\u001b[39m \u001b[38;5;241m3\u001b[39m \n\u001b[0;32m      4\u001b[0m a6 \u001b[38;5;241m=\u001b[39m \u001b[38;5;241m-\u001b[39m\u001b[38;5;241m4\u001b[39m  \n",
      "\u001b[1;31mNameError\u001b[0m: name 'var' is not defined"
     ]
    }
   ],
   "source": [
    "# Exemplo 6\n",
    "x = var('x')\n",
    "f6 = abs(x) - 3 \n",
    "a6 = -4  \n",
    "b6 = 4   \n",
    "\n",
    "raiz6, iteracoes6 = newton_bisseccao(f6, a6, b6)\n",
    "print(f\"\\nExemplo 6: Raiz aproximada: {raiz6}\")  # Raiz em decimal\n",
    "print(f\"Número de iterações: {iteracoes6}\")"
   ]
  }
 ],
 "metadata": {
  "kernelspec": {
   "display_name": "Python 3",
   "language": "python",
   "name": "python3"
  },
  "language_info": {
   "codemirror_mode": {
    "name": "ipython",
    "version": 3
   },
   "file_extension": ".py",
   "mimetype": "text/x-python",
   "name": "python",
   "nbconvert_exporter": "python",
   "pygments_lexer": "ipython3",
   "version": "3.12.7"
  }
 },
 "nbformat": 4,
 "nbformat_minor": 5
}
